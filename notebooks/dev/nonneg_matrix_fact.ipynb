{
 "cells": [
  {
   "cell_type": "markdown",
   "metadata": {},
   "source": [
    "# Nonnegative matrix factorization\n",
    "\n",
    "A derivative work by Judson Wilson, 6/2/2014.    \n",
    "Adapted from the CVX example of the same name, by Argyris Zymnis, Joelle Skaf and Stephen Boyd\n",
    "\n",
    "## Introduction\n",
    "\n",
    "We are given a matrix $A \\in \\mathbf{\\mbox{R}}^{m \\times n}$ and are interested in solving the problem:\n",
    "    \\begin{array}{ll}\n",
    "    \\mbox{minimize}   & \\| A - YX \\|_F \\\\\n",
    "    \\mbox{subject to} & Y \\succeq 0 \\\\\n",
    "                      & X \\succeq 0,\n",
    "    \\end{array}\n",
    "where $Y \\in \\mathbf{\\mbox{R}}^{m \\times k}$ and $X \\in \\mathbf{\\mbox{R}}^{k \\times n}$.\n",
    "\n",
    "This example generates a random matrix $A$ and obtains an\n",
    "*approximate* solution to the above problem by first generating\n",
    "a random initial guess for $Y$ and then alternatively minimizing\n",
    "over $X$ and $Y$ for a fixed number of iterations.\n",
    "\n",
    "## Generate problem data"
   ]
  },
  {
   "cell_type": "code",
   "execution_count": 6,
   "metadata": {
    "collapsed": false
   },
   "outputs": [],
   "source": [
    "import cvxpy as cvx\n",
    "import numpy as np\n",
    "\n",
    "# Ensure repeatably random problem data.\n",
    "np.random.seed(0)\n",
    "\n",
    "# Generate random data matrix A.\n",
    "m = 10\n",
    "n = 12\n",
    "k = 5\n",
    "A = np.random.rand(m, k).dot(np.random.rand(k, n))\n",
    "\n",
    "# Initialize Y randomly.\n",
    "Y_init = np.random.rand(m, k)"
   ]
  },
  {
   "cell_type": "code",
   "execution_count": 8,
   "metadata": {
    "collapsed": false
   },
   "outputs": [
    {
     "data": {
      "text/plain": [
       "(10, 12)"
      ]
     },
     "execution_count": 8,
     "metadata": {},
     "output_type": "execute_result"
    }
   ],
   "source": [
    "A.shape"
   ]
  },
  {
   "cell_type": "markdown",
   "metadata": {},
   "source": [
    "## Perform alternating minimization"
   ]
  },
  {
   "cell_type": "code",
   "execution_count": 7,
   "metadata": {
    "collapsed": false
   },
   "outputs": [
    {
     "name": "stdout",
     "output_type": "stream",
     "text": [
      "Iteration 1, residual norm 3.24879764159\n",
      "Iteration 2, residual norm 0.498666327194\n",
      "Iteration 3, residual norm 0.256741647803\n",
      "Iteration 4, residual norm 0.222241855794\n",
      "Iteration 5, residual norm 0.199188948872\n",
      "Iteration 6, residual norm 0.181505574849\n",
      "Iteration 7, residual norm 0.164861624561\n",
      "Iteration 8, residual norm 0.150336849144\n",
      "Iteration 9, residual norm 0.138672475089\n",
      "Iteration 10, residual norm 0.125661888846\n",
      "Iteration 11, residual norm 0.114364231652\n",
      "Iteration 12, residual norm 0.103670244204\n",
      "Iteration 13, residual norm 0.0938519558184\n",
      "Iteration 14, residual norm 0.0857160986381\n",
      "Iteration 15, residual norm 0.077749471693\n",
      "Iteration 16, residual norm 0.0714573254353\n",
      "Iteration 17, residual norm 0.0656797221263\n",
      "Iteration 18, residual norm 0.0603970245378\n",
      "Iteration 19, residual norm 0.0566480483336\n",
      "Iteration 20, residual norm 0.0523039308043\n",
      "Iteration 21, residual norm 0.0489619508605\n",
      "Iteration 22, residual norm 0.0454965319419\n",
      "Iteration 23, residual norm 0.0417269486266\n",
      "Iteration 24, residual norm 0.0395381571336\n",
      "Iteration 25, residual norm 0.0372782288537\n",
      "Iteration 26, residual norm 0.0353202568416\n",
      "Iteration 27, residual norm 0.03337760179\n",
      "Iteration 28, residual norm 0.0314795567901\n",
      "Iteration 29, residual norm 0.0298400366859\n",
      "Iteration 30, residual norm 0.0281039800132\n"
     ]
    }
   ],
   "source": [
    "# Ensure same initial random Y, rather than generate new one\n",
    "# when executing this cell.\n",
    "Y = Y_init \n",
    "\n",
    "# Perform alternating minimization.\n",
    "MAX_ITERS = 30\n",
    "residual = np.zeros(MAX_ITERS)\n",
    "for iter_num in range(1, 1+MAX_ITERS):\n",
    "    # At the beginning of an iteration, X and Y are NumPy\n",
    "    # array types, NOT CVXPY variables.\n",
    "\n",
    "    # For odd iterations, treat Y constant, optimize over X.\n",
    "    if iter_num % 2 == 1:\n",
    "        X = cvx.Variable(k, n)\n",
    "        constraint = [X >= 0]\n",
    "    # For even iterations, treat X constant, optimize over Y.\n",
    "    else:\n",
    "        Y = cvx.Variable(m, k)\n",
    "        constraint = [Y >= 0]\n",
    "    \n",
    "    # Solve the problem.\n",
    "    obj = cvx.Minimize(cvx.norm(A - Y*X, 'fro'))\n",
    "    prob = cvx.Problem(obj, constraint)\n",
    "    prob.solve(solver=cvx.SCS)\n",
    "\n",
    "    if prob.status != cvx.OPTIMAL:\n",
    "        raise Exception(\"Solver did not converge!\")\n",
    "    \n",
    "    print 'Iteration {}, residual norm {}'.format(iter_num, prob.value)\n",
    "    residual[iter_num-1] = prob.value\n",
    "\n",
    "    # Convert variable to NumPy array constant for next iteration.\n",
    "    if iter_num % 2 == 1:\n",
    "        X = X.value\n",
    "    else:\n",
    "        Y = Y.value"
   ]
  },
  {
   "cell_type": "markdown",
   "metadata": {},
   "source": [
    "## Output results"
   ]
  },
  {
   "cell_type": "code",
   "execution_count": 3,
   "metadata": {
    "collapsed": false
   },
   "outputs": [
    {
     "data": {
      "image/png": "[encoded data removed]",
      "text/plain": [
       "<matplotlib.figure.Figure at 0x10fa36e50>"
      ]
     },
     "metadata": {},
     "output_type": "display_data"
    },
    {
     "name": "stdout",
     "output_type": "stream",
     "text": [
      "Original matrix:\n",
      "[[ 1.323426    1.11061189  1.69137835  1.20020115  1.13216889  0.5980743\n",
      "   1.64965406  0.340611    1.69871738  0.78278448]\n",
      " [ 1.73721109  1.40464204  1.90898877  1.60774132  1.53717253  0.62647405\n",
      "   1.76242265  0.41151492  1.8048194   1.20313124]\n",
      " [ 1.4071438   1.10269406  1.75323063  1.18928983  1.23428169  0.60364688\n",
      "   1.63792853  0.40855006  1.57257432  1.17227344]\n",
      " [ 1.3905141   1.33367163  1.07723947  1.67735654  1.33039096  0.42003169\n",
      "   1.22641711  0.21470465  1.47350799  0.84931787]\n",
      " [ 1.42153652  1.13598552  2.00816457  1.11463462  1.17914429  0.69942578\n",
      "   1.90353699  0.45664487  1.81023916  1.09668578]\n",
      " [ 1.60813803  1.23214532  1.73741086  1.3148874   1.27589039  0.40755835\n",
      "   1.31904948  0.3469129   1.34256526  0.76924618]\n",
      " [ 0.90607895  0.6632877   1.25412229  0.81696721  0.87218892  0.50032884\n",
      "   1.245879    0.25079329  1.25017792  0.72155621]\n",
      " [ 1.5691922   1.47359672  1.76518996  1.66268312  1.43746574  0.72486628\n",
      "   1.97409333  0.39239642  2.09234807  1.16325748]\n",
      " [ 1.18723548  1.00282008  1.41532595  1.03836298  0.90382914  0.38460446\n",
      "   1.213473    0.23641422  1.32784402  0.27179726]\n",
      " [ 0.75789915  0.75119989  0.99502166  0.65444815  0.56073096  0.341146\n",
      "   1.02555143  0.24273668  1.01035919  0.49427978]]\n",
      "Left factor Y:\n",
      "[[  7.39864810e-01   3.22027703e-01   8.42116091e-01   7.65629479e-01\n",
      "    3.57543831e-03]\n",
      " [  6.54952261e-01   8.55663052e-01   5.34434345e-01   4.55945267e-01\n",
      "    2.16964135e-02]\n",
      " [  5.79427045e-01   6.60297175e-01   8.07356554e-01   6.59264077e-02\n",
      "    2.48519911e-02]\n",
      " [  2.62858440e-01   9.46397894e-01   2.69869567e-02   1.06945462e+00\n",
      "   -2.13452765e-05]\n",
      " [  8.06552793e-01   3.50625238e-01   1.18142554e+00   3.24483377e-01\n",
      "    2.05870070e-02]\n",
      " [  7.68627598e-01   5.09364547e-01   2.02082106e-07   5.33718236e-01\n",
      "    2.89471368e-02]\n",
      " [  4.63029325e-01   3.98104365e-01   8.12542074e-01   9.61426198e-02\n",
      "   -2.27245445e-04]\n",
      " [  5.91730268e-01   7.16720775e-01   9.94399192e-01   1.03663397e+00\n",
      "    2.76416293e-03]\n",
      " [  8.17091107e-01   7.18081538e-04   2.80063878e-01   1.16437815e+00\n",
      "   -4.13706836e-05]\n",
      " [  4.41413622e-01   4.94893452e-02   5.81220129e-01   6.59780140e-01\n",
      "    1.12795191e-02]]\n",
      "Right factor X:\n",
      "[[  1.12877271e+00   4.62243270e-01   1.59670430e+00   6.52881774e-01\n",
      "    9.03144240e-01   3.01932139e-01   8.81371699e-01   1.82229088e-01\n",
      "    9.09026035e-01   7.35140454e-02]\n",
      " [  9.00829662e-01   7.11203863e-01   6.62952066e-01   1.11090958e+00\n",
      "    1.00637299e+00   2.97384749e-01   7.29211395e-01   1.25608124e-01\n",
      "    8.70645651e-01   7.82984844e-01]\n",
      " [  6.33459018e-03   1.48606509e-01   3.10059107e-01   3.89624161e-02\n",
      "    4.74025024e-02   2.85692056e-01   6.42900355e-01   1.40777502e-01\n",
      "    5.49699656e-01   4.59994853e-01]\n",
      " [  2.25686407e-01   5.00805249e-01   2.06595595e-02   4.23796426e-01\n",
      "    1.29873512e-01   4.76386411e-02   2.68679824e-01   4.15246032e-02\n",
      "    3.69905874e-01   7.20253283e-02]\n",
      " [  5.56920654e+00   8.55645912e+00   5.56796526e+00   7.13296909e-01\n",
      "   -2.28813749e-06  -5.30270429e-06   4.38384118e+00   4.17231306e+00\n",
      "    9.15673356e-02   9.50724020e+00]]\n",
      "Residual A - Y * X:\n",
      "[[  1.55707402e-04   4.18729810e-04  -2.87149084e-04  -4.19029783e-04\n",
      "    5.30879367e-04   1.85979999e-03  -4.81955168e-05   7.55060871e-05\n",
      "   -6.60171414e-04  -2.55122207e-04]\n",
      " [ -5.68030478e-06  -6.07775005e-05   2.93519213e-05   4.38321586e-05\n",
      "   -8.70502561e-06  -1.42377899e-04   2.05965156e-06  -8.17270342e-06\n",
      "    4.95422913e-05   6.21780798e-05]\n",
      " [ -1.11755782e-04  -3.87874096e-04   2.46314906e-04   3.39222999e-04\n",
      "   -3.62503347e-04  -1.45894472e-03   3.16096537e-05  -6.25861661e-05\n",
      "    5.09370171e-04   2.72654109e-04]\n",
      " [ -1.50071396e-04  -3.31039089e-04  -2.27335573e-04   1.11266013e-04\n",
      "    3.89516334e-04   5.64650333e-04   1.97658888e-05  -1.89847680e-04\n",
      "    1.55302360e-04  -2.59868209e-04]\n",
      " [ -1.00500103e-04  -4.26494938e-04   2.47362619e-04   3.07325035e-04\n",
      "   -2.93260292e-04  -1.35075594e-03   1.30586769e-05  -6.15021105e-05\n",
      "    4.48720219e-04   3.12259473e-04]\n",
      " [  1.59432567e-05  -3.83561813e-04   2.52493558e-04   3.70704712e-04\n",
      "   -2.17724128e-04  -1.41778623e-03  -1.30662765e-04  -7.27199336e-05\n",
      "    3.10496876e-04   2.67828194e-04]\n",
      " [ -7.79758814e-04  -8.31201270e-04  -1.77977526e-03   1.64444714e-04\n",
      "    2.36226131e-03   5.41831510e-03   2.56853908e-04  -1.02105548e-03\n",
      "    4.67360835e-04  -2.72203226e-03]\n",
      " [ -2.76103997e-05  -2.38566827e-04   9.04859805e-05   1.03592987e-04\n",
      "   -8.77145211e-06  -4.13705603e-04  -2.18161242e-05  -2.78063711e-05\n",
      "    1.09031121e-04   2.13520838e-04]\n",
      " [ -4.95428329e-05   2.22495010e-04  -4.64528183e-04  -2.40390483e-04\n",
      "    6.57749015e-04   2.20343353e-03   7.16702333e-05  -1.78169581e-04\n",
      "   -1.95814820e-04  -1.13200392e-03]\n",
      " [ -3.41143390e-04  -1.34479430e-03   7.58232919e-04   9.75200705e-04\n",
      "   -9.73182175e-04  -4.32928386e-03   2.99034371e-05  -1.99492273e-04\n",
      "    1.42914078e-03   9.64019965e-04]]\n",
      "Residual after 30 iterations: 0.00971448705383\n"
     ]
    }
   ],
   "source": [
    "#\n",
    "# Plot residuals.\n",
    "#\n",
    "\n",
    "import matplotlib.pyplot as plt\n",
    "\n",
    "# Show plot inline in ipython.\n",
    "%matplotlib inline\n",
    "\n",
    "# Set plot properties.\n",
    "plt.rc('text', usetex=True)\n",
    "plt.rc('font', family='serif')\n",
    "font = {'family' : 'normal',\n",
    "        'weight' : 'normal',\n",
    "        'size'   : 16}\n",
    "plt.rc('font', **font)\n",
    "\n",
    "# Create the plot.\n",
    "plt.plot(residual)\n",
    "plt.xlabel('Iteration Number')\n",
    "plt.ylabel('Residual Norm')\n",
    "plt.show()\n",
    "\n",
    "#\n",
    "# Print results.\n",
    "#\n",
    "print 'Original matrix:'\n",
    "print A\n",
    "print 'Left factor Y:'\n",
    "print Y\n",
    "print 'Right factor X:'\n",
    "print X\n",
    "print 'Residual A - Y * X:'\n",
    "print A - Y * X\n",
    "print 'Residual after {} iterations: {}'.format(iter_num, prob.value)\n"
   ]
  },
  {
   "cell_type": "code",
   "execution_count": null,
   "metadata": {
    "collapsed": false
   },
   "outputs": [],
   "source": []
  }
 ],
 "metadata": {
  "kernelspec": {
   "display_name": "Python 2",
   "language": "python",
   "name": "python2"
  },
  "language_info": {
   "codemirror_mode": {
    "name": "ipython",
    "version": 2
   },
   "file_extension": ".py",
   "mimetype": "text/x-python",
   "name": "python",
   "nbconvert_exporter": "python",
   "pygments_lexer": "ipython2",
   "version": "2.7.5"
  }
 },
 "nbformat": 4,
 "nbformat_minor": 0
}
