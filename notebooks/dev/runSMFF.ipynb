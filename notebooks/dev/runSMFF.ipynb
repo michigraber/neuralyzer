{
 "cells": [
  {
   "cell_type": "markdown",
   "metadata": {},
   "source": [
    "# run a set of parameters through the SMFF model"
   ]
  },
  {
   "cell_type": "markdown",
   "metadata": {},
   "source": [
    "### paths"
   ]
  },
  {
   "cell_type": "code",
   "execution_count": 1,
   "metadata": {
    "collapsed": false
   },
   "outputs": [],
   "source": [
    "import os, socket\n",
    "\n",
    "if socket.gethostname() == 'kumo':\n",
    "    experimentpath = os.path.normpath('/home/michael/datac/experiments/20150612/')\n",
    "else:\n",
    "    datapath = os.path.normpath('/Users/michael/coding/RIKEN/data/150612/')\n",
    "    \n",
    "smfpath = os.path.join(experimentpath, 'smf')\n",
    "ANALYSIS_NAME = 'tests'\n",
    "outpath = os.path.join(smfpath, ANALYSIS_NAME)\n",
    "if not os.path.exists(outpath):\n",
    "    os.makedirs(outpath)\n",
    "\n",
    "datapath = os.path.join(experimentpath, 'data')\n",
    "datafile = os.path.join(datapath, 'Image001_Registered_16bit_cutout.tif')"
   ]
  },
  {
   "cell_type": "markdown",
   "metadata": {},
   "source": [
    "### the parameters"
   ]
  },
  {
   "cell_type": "code",
   "execution_count": 2,
   "metadata": {
    "collapsed": false
   },
   "outputs": [],
   "source": [
    "# model init parameters\n",
    "components = ((2, 3, 40),(8, 3, 20),(5, 2, 20))  # (num components, sigma gaussian, window size multiplier,)\n",
    "init_its = 5\n",
    "\n",
    "# smff parameters\n",
    "iterations = 5\n",
    "morph_mod = 2\n",
    "\n",
    "# data\n",
    "fs = 15.\n",
    "\n",
    "# processing\n",
    "N_JOBS = 20 # two less than cpu count"
   ]
  },
  {
   "cell_type": "markdown",
   "metadata": {},
   "source": [
    "### running the code"
   ]
  },
  {
   "cell_type": "code",
   "execution_count": 3,
   "metadata": {
    "collapsed": false
   },
   "outputs": [],
   "source": [
    "%matplotlib inline\n",
    "from matplotlib import pyplot as plt\n",
    "plt.rcParams['image.cmap'] = 'gray'\n",
    "plt.rcParams['image.interpolation'] = 'none'\n",
    "plt.rcParams['figure.figsize'] = (5,5)\n",
    "\n",
    "import numpy as np\n",
    "import sklearn"
   ]
  },
  {
   "cell_type": "code",
   "execution_count": 4,
   "metadata": {
    "collapsed": false
   },
   "outputs": [
    {
     "name": "stdout",
     "output_type": "stream",
     "text": [
      "[ 2015-07-30 20:10:51 ] [ log ] [ INFO ] : NEURALYZER LOGGER CREATED\n",
      "[ 2015-07-30 20:10:51 ] [ log ] [ DEBUG ] : stdoutloglevel: DEBUG\n"
     ]
    }
   ],
   "source": [
    "import neuralyzer\n",
    "from neuralyzer.im.smff import model, _init_model, nbplot"
   ]
  },
  {
   "cell_type": "code",
   "execution_count": 5,
   "metadata": {
    "collapsed": false
   },
   "outputs": [
    {
     "name": "stdout",
     "output_type": "stream",
     "text": [
      "[ 2015-07-30 20:10:52 ] [ data_handler ] [ DEBUG ] : root_path set to /home/michael/lib/neuralyzer/notebooks/dev\n",
      "[ 2015-07-30 20:10:52 ] [ data_handler ] [ DEBUG ] : loaded data from cache file: /home/michael/datac/experiments/20150612/data/Image001_Registered_16bit_cutout.tif.hdf5\n"
     ]
    }
   ],
   "source": [
    "# load data\n",
    "data = neuralyzer.get_data(datafile, library='tifffile')"
   ]
  },
  {
   "cell_type": "code",
   "execution_count": 6,
   "metadata": {
    "collapsed": false
   },
   "outputs": [
    {
     "data": {
      "text/plain": [
       "(65536, 3000)"
      ]
     },
     "execution_count": 6,
     "metadata": {},
     "output_type": "execute_result"
    }
   ],
   "source": [
    "ds = data.shape\n",
    "data = data.reshape((data.shape[0], data.shape[1]*data.shape[2])).T\n",
    "data.shape"
   ]
  },
  {
   "cell_type": "code",
   "execution_count": null,
   "metadata": {
    "collapsed": false
   },
   "outputs": [
    {
     "name": "stdout",
     "output_type": "stream",
     "text": [
      "[ 2015-07-30 20:10:53 ] [ _init_model ] [ INFO ] : Initializing SMFF model with greedy algorithm.\n",
      "[ 2015-07-30 20:10:53 ] [ _init_model ] [ DEBUG ] : copying data ..\n",
      "[ 2015-07-30 20:10:58 ] [ _init_model ] [ INFO ] : subtracting background\n",
      "[ 2015-07-30 20:11:05 ] [ _init_model ] [ INFO ] : Finding 2 components with sigma 3 and window size 121\n",
      "[ 2015-07-30 20:11:05 ] [ _init_model ] [ DEBUG ] : component 1 / 2\n"
     ]
    }
   ],
   "source": [
    "Ainit, Cinit, binit, finit = _init_model.greedy(data, components=components, njobs=-1)"
   ]
  },
  {
   "cell_type": "code",
   "execution_count": null,
   "metadata": {
    "collapsed": false
   },
   "outputs": [],
   "source": [
    "fig, ax = nbplot.plot_spatial_components(Ainit)\n",
    "fig.savefig(os.path.join(outpath, 'init_spatial_components.png'))"
   ]
  },
  {
   "cell_type": "code",
   "execution_count": null,
   "metadata": {
    "collapsed": false
   },
   "outputs": [],
   "source": [
    "fig, ax = nbplot.plot_temporal_components(Cinit, fs)\n",
    "fig.savefig(os.path.join(outpath, 'init_temporal_components.png'))"
   ]
  },
  {
   "cell_type": "code",
   "execution_count": null,
   "metadata": {
    "collapsed": false
   },
   "outputs": [],
   "source": [
    "smf = model.SMFF(A=Ainit, C=Cinit, b=binit, f=finit)\n",
    "smf.fit_model(data, re_init=True, morph_mod=morph_mod, max_num_iterations=iterations, njobs=N_JOBS, maxiter=300)"
   ]
  },
  {
   "cell_type": "code",
   "execution_count": null,
   "metadata": {
    "collapsed": false
   },
   "outputs": [],
   "source": [
    "fig, ax = plt.subplots(figsize=(10, 4))\n",
    "ax.plot(smf._avg_abs_res)\n",
    "fig.savefig(os.path.join(outpath, 'residuals.png'))"
   ]
  },
  {
   "cell_type": "code",
   "execution_count": null,
   "metadata": {
    "collapsed": false
   },
   "outputs": [],
   "source": [
    "fig, ax = nbplot.plot_spatial_components(smf.A_)\n",
    "fig.savefig(os.path.join(outpath, 'spatial_components.png'))"
   ]
  },
  {
   "cell_type": "code",
   "execution_count": null,
   "metadata": {
    "collapsed": false
   },
   "outputs": [],
   "source": [
    "fig, ax = nbplot.plot_temporal_components(smf.C_, 15.)\n",
    "fig.savefig(os.path.join(outpath, 'temporal_components.png'))"
   ]
  },
  {
   "cell_type": "code",
   "execution_count": null,
   "metadata": {
    "collapsed": false
   },
   "outputs": [],
   "source": [
    "fig, ax = plt.subplots(ncols=1,nrows=1)\n",
    "ax.grid(False)\n",
    "imp = ax.imshow(smf.b_.reshape(ds[1],ds[2]),cmap='gray')\n",
    "fig.savefig(os.path.join(outpath, 'background.png'))"
   ]
  },
  {
   "cell_type": "code",
   "execution_count": null,
   "metadata": {
    "collapsed": false
   },
   "outputs": [],
   "source": [
    "fig, ax = nbplot.plot_temporal_components(smf.f_, 15.)\n",
    "fig.savefig(os.path.join(outpath, 'background_trace.png'))"
   ]
  },
  {
   "cell_type": "code",
   "execution_count": null,
   "metadata": {
    "collapsed": false
   },
   "outputs": [],
   "source": [
    "fig, ax = nbplot.plot_correlation_matrix(smf.C_)\n",
    "fig.savefig(os.path.join(outpath, 'correlation_matrix.png'))"
   ]
  },
  {
   "cell_type": "code",
   "execution_count": null,
   "metadata": {
    "collapsed": true
   },
   "outputs": [],
   "source": []
  }
 ],
 "metadata": {
  "kernelspec": {
   "display_name": "Python 2",
   "language": "python",
   "name": "python2"
  },
  "language_info": {
   "codemirror_mode": {
    "name": "ipython",
    "version": 2
   },
   "file_extension": ".py",
   "mimetype": "text/x-python",
   "name": "python",
   "nbconvert_exporter": "python",
   "pygments_lexer": "ipython2",
   "version": "2.7.3"
  }
 },
 "nbformat": 4,
 "nbformat_minor": 0
}
