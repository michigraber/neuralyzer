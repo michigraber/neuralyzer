{
 "cells": [
  {
   "cell_type": "markdown",
   "metadata": {},
   "source": [
    "# Resources\n",
    "\n",
    "\n",
    "## IPython Notebook\n",
    "\n",
    "- [ipython website](http://ipython.org)\n",
    "- [nbviewer](http://nbviewer.ipython.org) : lots of example ipython notebooks\n",
    "\n",
    "\n",
    "## Number crunching\n",
    "\n",
    "- [numpy](http://www.numpy.org) : fundamental numerics\n",
    "- [scipy](http://www.scipy.org) : algorithms useful for science applications\n",
    "- [scikit-learn](http://scikit-learn.org/stable/) : machine learning and statistics\n",
    "- [sympy](http://www.sympy.org/en/index.html) : symbolic mathematics\n",
    "\n",
    "\n",
    "## Plotting\n",
    "\n",
    "- [matplotlib](http://matplotlib.org/) : the standard python scientific plotting library\n",
    "- [mpld3](http://mpld3.github.io) : a tool for browser integration (interactivity) of matplotlib plots\n",
    "\n",
    "\n",
    "## Image Analysis\n",
    "\n",
    "- [PIL / pillow](https://pillow.readthedocs.org/)\n",
    "- [scikit-image](http://scikit-image.org/)"
   ]
  },
  {
   "cell_type": "markdown",
   "metadata": {
    "collapsed": true
   },
   "source": [
    "## IPYTHON　NOTEBOOK　わ　にほんご　が　はなし　ます"
   ]
  }
 ],
 "metadata": {
  "kernelspec": {
   "display_name": "Python 2",
   "language": "python",
   "name": "python2"
  },
  "language_info": {
   "codemirror_mode": {
    "name": "ipython",
    "version": 2
   },
   "file_extension": ".py",
   "mimetype": "text/x-python",
   "name": "python",
   "nbconvert_exporter": "python",
   "pygments_lexer": "ipython2",
   "version": "2.7.3"
  }
 },
 "nbformat": 4,
 "nbformat_minor": 0
}
