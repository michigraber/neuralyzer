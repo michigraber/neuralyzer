{
 "cells": [
  {
   "cell_type": "markdown",
   "metadata": {},
   "source": [
    "# Data Handling Utilities\n",
    "\n",
    "## tiff file directory to tiff stack conversion\n",
    "\n",
    "I wrote a utility script that can be executed from the command line:"
   ]
  },
  {
   "cell_type": "code",
   "execution_count": 1,
   "metadata": {
    "collapsed": false
   },
   "outputs": [
    {
     "name": "stdout",
     "output_type": "stream",
     "text": [
      "usage: build_tiff_stack.py [-h] [--filename FILENAME] [--dir DIR] [--pattern PATTERN] [--verbose] [--nocache]\n",
      "\n",
      "A script to build a .tiff image stack from .tiff image files in a directory.\n",
      "\n",
      "optional arguments:\n",
      "  -h, --help           show this help message and exit\n",
      "  --filename FILENAME  The filename of the output stack. (default: stack.tif)\n",
      "  --dir DIR            The path to the directory to load tiff files from. (default: )\n",
      "  --pattern PATTERN    The regexp pattern for filename selection. (default: \\w*.tif$)\n",
      "  --verbose\n",
      "  --nocache            Generate faster loading cache files. (default: True)\n"
     ]
    }
   ],
   "source": [
    "%%bash\n",
    "build_tiff_stack.py --help"
   ]
  },
  {
   "cell_type": "markdown",
   "metadata": {},
   "source": [
    "The `--pattern` argument allows you to define a regular expression pattern for the files in `--dir` to build a stack only from files that match the regular expression pattern, ie `--pattern ChanA` will build a stack from files that contain `ChanA` in its name.  \n",
    "To select files whose name **begin** with `ChanA` write `--pattern ^Chan`.\n",
    "\n",
    "### Speed\n",
    "It took approximately **3 minutes to build a stack with 3000 files**.\n",
    "\n",
    "\n",
    "## tiff stacks as numpy arrays\n",
    "Furthermore I wrote functions that can easily **load these tiff stacks into python (also an IPython notebook) as `numpy` arrays**.  \n",
    "But because loading these large tiffs takes similarly long as building a stack, I added a **caching layer** that saves faster loading `hdf5` binaries of the arrays.\n",
    "\n",
    "This also explains the `--nocache` option for the `build_tiff_stack.py` scripts. By default the script right away saves a fast loading cache file. Its name is simply *filename.hdf5*. But be aware that this **doubles the volume of your data**.  \n",
    "\n",
    "However, using this caching tiff stacks now load like a charm:"
   ]
  },
  {
   "cell_type": "code",
   "execution_count": 2,
   "metadata": {
    "collapsed": false
   },
   "outputs": [],
   "source": [
    "datafiles = [\n",
    "    '/home/michael/datac/data1/ChanA_0001_0001_0001.tif',\n",
    "    '/home/michael/datac/data1/ChanB_0001_0001_0001.tif',\n",
    "    '/home/michael/datac/data2/ChanA_0001_0001_0001.tif',\n",
    "    '/home/michael/datac/data2/ChanB_0001_0001_0001.tif',\n",
    "    '/home/michael/datac/data3/ChanA_0001_0001_0001.tif',\n",
    "    '/home/michael/datac/data3/ChanB_0001_0001_0001.tif',\n",
    "    ]"
   ]
  },
  {
   "cell_type": "code",
   "execution_count": 3,
   "metadata": {
    "collapsed": true
   },
   "outputs": [],
   "source": [
    "import neuralyzer"
   ]
  },
  {
   "cell_type": "code",
   "execution_count": 4,
   "metadata": {
    "collapsed": false
   },
   "outputs": [
    {
     "name": "stdout",
     "output_type": "stream",
     "text": [
      "[ 2015-04-07 16:59:25 ] [ log ] [ DEBUG ] : stdoutloglevel: DEBUG\n",
      "[ 2015-04-07 16:59:25 ] [ data_handler ] [ DEBUG ] : root_path set to /home/michael/lib/neuralyzer/notebooks/doc\n",
      "[ 2015-04-07 16:59:26 ] [ data_handler ] [ INFO ] : loaded data from cache file: /home/michael/datac/data1/ChanB_0001_0001_0001.tif.hdf5\n",
      "[ 2015-04-07 16:59:26 ] [ data_handler ] [ DEBUG ] : root_path set to /home/michael/lib/neuralyzer/notebooks/doc\n",
      "[ 2015-04-07 16:59:27 ] [ data_handler ] [ INFO ] : loaded data from cache file: /home/michael/datac/data1/ChanB_0001_0001_0001.tif.hdf5\n",
      "[ 2015-04-07 16:59:27 ] [ data_handler ] [ DEBUG ] : root_path set to /home/michael/lib/neuralyzer/notebooks/doc\n",
      "[ 2015-04-07 16:59:28 ] [ data_handler ] [ INFO ] : loaded data from cache file: /home/michael/datac/data1/ChanB_0001_0001_0001.tif.hdf5\n",
      "[ 2015-04-07 16:59:28 ] [ data_handler ] [ DEBUG ] : root_path set to /home/michael/lib/neuralyzer/notebooks/doc\n",
      "[ 2015-04-07 16:59:29 ] [ data_handler ] [ INFO ] : loaded data from cache file: /home/michael/datac/data1/ChanB_0001_0001_0001.tif.hdf5\n",
      "1 loops, best of 3: 827 ms per loop\n"
     ]
    }
   ],
   "source": [
    "%%timeit\n",
    "stackdata = neuralyzer.get_data(datafiles[1])"
   ]
  },
  {
   "cell_type": "markdown",
   "metadata": {},
   "source": [
    "on **kumo it takes on average ~ 0.8  s to load a 1.5 G stack**, whereas on my computer it takes now on average 2.13 s to load the 1.5 G stacks.\n",
    "\n",
    "We just saw, the utilities come with a logger .."
   ]
  },
  {
   "cell_type": "code",
   "execution_count": 5,
   "metadata": {
    "collapsed": false
   },
   "outputs": [
    {
     "name": "stdout",
     "output_type": "stream",
     "text": [
      "[ 2015-04-07 16:59:47 ] [ data_handler ] [ DEBUG ] : root_path set to /home/michael/lib/neuralyzer/notebooks/doc\n",
      "[ 2015-04-07 16:59:48 ] [ data_handler ] [ INFO ] : loaded data from cache file: /home/michael/datac/data1/ChanA_0001_0001_0001.tif.hdf5\n"
     ]
    }
   ],
   "source": [
    "stackdata = neuralyzer.get_data(datafiles[0])"
   ]
  },
  {
   "cell_type": "code",
   "execution_count": 6,
   "metadata": {
    "collapsed": false
   },
   "outputs": [
    {
     "name": "stdout",
     "output_type": "stream",
     "text": [
      "Variable     Type       Data/Info\n",
      "---------------------------------\n",
      "datafiles    list       n=6\n",
      "neuralyzer   module     <module 'neuralyzer' from<...>neuralyzer/__init__.pyc'>\n",
      "stackdata    ndarray    3000x512x512: 786432000 elems, type `uint16`, 1572864000 bytes (1500 Mb)\n"
     ]
    }
   ],
   "source": [
    "whos"
   ]
  }
 ],
 "metadata": {
  "kernelspec": {
   "display_name": "Python 2",
   "language": "python",
   "name": "python2"
  },
  "language_info": {
   "codemirror_mode": {
    "name": "ipython",
    "version": 2
   },
   "file_extension": ".py",
   "mimetype": "text/x-python",
   "name": "python",
   "nbconvert_exporter": "python",
   "pygments_lexer": "ipython2",
   "version": "2.7.3"
  }
 },
 "nbformat": 4,
 "nbformat_minor": 0
}
